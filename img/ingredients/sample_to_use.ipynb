{
 "cells": [
  {
   "cell_type": "code",
   "execution_count": 8,
   "id": "e48cb692-7747-418c-b0f7-68084436ee4d",
   "metadata": {},
   "outputs": [
    {
     "name": "stdout",
     "output_type": "stream",
     "text": [
      "*************** EP Error ***************\n",
      "EP Error SystemError : 20 when using ['CoreMLExecutionProvider', 'CPUExecutionProvider']\n",
      "Falling back to ['CPUExecutionProvider'] and retrying.\n",
      "****************************************\n",
      "📦 Model size: 0.30 MB\n",
      "Inputs: ['image', 'text']\n",
      "Outputs: ['logits_per_image']\n"
     ]
    },
    {
     "name": "stderr",
     "output_type": "stream",
     "text": [
      "2025-09-28 11:57:34.621 Python[2926:110286] 2025-09-28 11:57:34.623498 [W:onnxruntime:, coreml_execution_provider.cc:113 GetCapability] CoreMLExecutionProvider::GetCapability, number of partitions supported by CoreML: 65 number of nodes in the graph: 1000 number of nodes supported by CoreML: 822\n"
     ]
    }
   ],
   "source": [
    "from ingredients import FoodClassifier\n",
    "\n",
    "# 1. Point to model folder\n",
    "model_dir = \"./content\"\n",
    "clf = FoodClassifier(model_dir, providers=[\"CoreMLExecutionProvider\", \"CPUExecutionProvider\"])"
   ]
  },
  {
   "cell_type": "code",
   "execution_count": 9,
   "id": "631ebcb4-bcb7-4591-8ec2-88fb20488e91",
   "metadata": {},
   "outputs": [
    {
     "name": "stdout",
     "output_type": "stream",
     "text": [
      "{'image': 'RedOnions.jpg', 'label': 'onion', 'probability': 0.9516251683235168, 'kcal': 40, 'latency_ms': 2617.805004119873}\n"
     ]
    }
   ],
   "source": [
    "# 2. Run on a single image\n",
    "img_path = \"./data_test/RedOnions.jpg\"   # change this to your actual image file path\n",
    "prediction = clf.predict_image(img_path)\n",
    "\n",
    "print(prediction)"
   ]
  },
  {
   "cell_type": "code",
   "execution_count": 10,
   "id": "197b32ad-bb77-4c1f-8f20-058e8c3baaff",
   "metadata": {},
   "outputs": [
    {
     "name": "stdout",
     "output_type": "stream",
     "text": [
      "{'image': '20250928_074540.jpg', 'label': 'mango', 'probability': 0.9398687481880188, 'kcal': 60, 'latency_ms': 2618.691921234131}\n",
      "{'image': 'mexican-fried-rice-9.jpg', 'label': 'fried_rice', 'probability': 0.999211311340332, 'kcal': 200, 'latency_ms': 2563.2431507110596}\n",
      "{'image': 'sides_potatotomatogratin_3.jpg', 'label': 'onion', 'probability': 0.5279732942581177, 'kcal': 40, 'latency_ms': 2570.521116256714}\n",
      "{'image': '20250928_074923.jpg', 'label': 'mango', 'probability': 0.8149738311767578, 'kcal': 60, 'latency_ms': 2568.6566829681396}\n",
      "{'image': 'RedOnions.jpg', 'label': 'onion', 'probability': 0.9516251683235168, 'kcal': 40, 'latency_ms': 2563.9588832855225}\n",
      "{'image': '20250928_074905.jpg', 'label': 'banana', 'probability': 0.9872404336929321, 'kcal': 96, 'latency_ms': 2577.813148498535}\n"
     ]
    }
   ],
   "source": [
    "results = clf.predict_folder(\"data_test\")\n",
    "\n",
    "for r in results:\n",
    "    print(r)"
   ]
  },
  {
   "cell_type": "code",
   "execution_count": null,
   "id": "7c6d0b7b-c48a-4b98-914f-df163af69e80",
   "metadata": {},
   "outputs": [],
   "source": []
  }
 ],
 "metadata": {
  "kernelspec": {
   "display_name": "Python (myenv)",
   "language": "python",
   "name": "myenv"
  },
  "language_info": {
   "codemirror_mode": {
    "name": "ipython",
    "version": 3
   },
   "file_extension": ".py",
   "mimetype": "text/x-python",
   "name": "python",
   "nbconvert_exporter": "python",
   "pygments_lexer": "ipython3",
   "version": "3.13.2"
  }
 },
 "nbformat": 4,
 "nbformat_minor": 5
}
